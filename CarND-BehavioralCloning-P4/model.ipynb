{
 "cells": [
  {
   "cell_type": "code",
   "execution_count": 35,
   "metadata": {},
   "outputs": [],
   "source": [
    "import cv2\n",
    "import glob\n",
    "import random\n",
    "import pandas as pd\n",
    "import numpy as np\n",
    "from keras.optimizers import Adam\n",
    "from keras.callbacks import ModelCheckpoint\n",
    "from keras.models import Sequential\n",
    "from keras.layers import Conv2D, Cropping2D, Dense, Dropout, Flatten, Lambda\n",
    "from sklearn.model_selection import train_test_split\n",
    "import matplotlib.image as mpimg\n",
    "import matplotlib.pyplot as plt"
   ]
  },
  {
   "cell_type": "code",
   "execution_count": 36,
   "metadata": {},
   "outputs": [],
   "source": [
    "IMG_HEIGHT, IMG_WIDTH, IMG_CHANNELS = 160, 320, 3"
   ]
  },
  {
   "cell_type": "code",
   "execution_count": 37,
   "metadata": {},
   "outputs": [],
   "source": [
    "def augment(image, measurement):\n",
    "    \"\"\" Randomly augments an image and it's corresponding steering angle.\n",
    "    Args:\n",
    "        image (np.array): array representation of an image\n",
    "        measurement (float): steering angle\n",
    "    Returns:\n",
    "        image (np.array): array representation of an image\n",
    "        measurement (float): steering angle\n",
    "    \"\"\"\n",
    "    # randomly flip the image and measurement\n",
    "    if np.random.rand() < 0.5:\n",
    "        image = np.fliplr(image)\n",
    "        measurement = -measurement\n",
    "    # randomly adjust the brightness of the image\n",
    "    if np.random.rand() < 0.5:\n",
    "        delta_pct = random.uniform(0.4, 1.2)\n",
    "        hsv = cv2.cvtColor(image, cv2.COLOR_RGB2HSV)\n",
    "        hsv[:, :, 2] = hsv[:, :, 2] * delta_pct\n",
    "        image = cv2.cvtColor(hsv, cv2.COLOR_HSV2RGB)\n",
    "    return image, measurement"
   ]
  },
  {
   "cell_type": "code",
   "execution_count": 38,
   "metadata": {},
   "outputs": [],
   "source": [
    "def load_image(image_file):\n",
    "    \"\"\" Loads RGB images from a file\n",
    "    Args:\n",
    "        image_file (str): name of image file\n",
    "    Returns:\n",
    "        numpy array representation of the image\n",
    "    \"\"\"\n",
    "    image_file = image_file.strip()\n",
    "    x = image_file.split('/')\n",
    "    y=len(x)\n",
    "    image_file = 'data/IMG/IMG/'+x[y-1]\n",
    "    return mpimg.imread(image_file)"
   ]
  },
  {
   "cell_type": "code",
   "execution_count": 39,
   "metadata": {},
   "outputs": [],
   "source": [
    "def load_data(test_size, additional_training_data=False):\n",
    "    \"\"\" Loads the data from a directory and split it into\n",
    "    training and testing datasets.\n",
    "    Args:\n",
    "        test_size (float): percentage of data to hold out for testing\n",
    "    Returns:\n",
    "        List containing train-test split of inputs. (X_train, X_val, y_train, y_val)\n",
    "    \"\"\"\n",
    "    header = None\n",
    "    names = ['center', 'left', 'right', 'steering', 'throttle', 'brake', 'speed']\n",
    "    data_df = pd.read_csv('data/driving_log.csv',\n",
    "                          header=header, names=names)\n",
    "\n",
    "    if additional_training_data:\n",
    "        for filename in glob.glob('training_data/*.csv'):\n",
    "            tmp_df = pd.read_csv(filename, header=header, names=names)\n",
    "            data_df = pd.concat([data_df, tmp_df])\n",
    "\n",
    "    # ignore header rows of additional training data\n",
    "    data_df = data_df[(data_df.center != 'center') |\n",
    "                      (data_df.left != 'left') |\n",
    "                      (data_df.right != 'right')]\n",
    "\n",
    "    X = data_df[['center', 'left', 'right']].values\n",
    "    y = data_df['steering'].values\n",
    "\n",
    "    return train_test_split(X, y, test_size=test_size)\n"
   ]
  },
  {
   "cell_type": "code",
   "execution_count": 40,
   "metadata": {},
   "outputs": [],
   "source": [
    "# Function to build network\n",
    "# I've based this on the Nvidia network mentioned in the theory sections. This \n",
    "def net():\n",
    "    model = Sequential()\n",
    "    model.add(Lambda(lambda x: (x/255.0)-0.5))\n",
    "    model.add(Conv2D(24, (5,5), strides= (2,2), activation = 'relu'))\n",
    "    model.add(Conv2D(36, (5,5), strides= (2,2), activation = 'relu'))\n",
    "    model.add(Conv2D(48, (3,3), strides= (2,2), activation = 'relu'))\n",
    "    model.add(Conv2D(64, (3, 3), activation='relu'))\n",
    "    model.add(Conv2D(64, (3, 3), activation='relu'))\n",
    "    model.add(Flatten())\n",
    "    model.add(Dense(1164))\n",
    "    model.add(Dense(100))\n",
    "    model.add(Dense(50))\n",
    "    model.add(Dense(10))\n",
    "    model.add(Dense(1))\n",
    "    return model"
   ]
  },
  {
   "cell_type": "code",
   "execution_count": 41,
   "metadata": {},
   "outputs": [],
   "source": [
    "def batch_generator(image_paths, steering_angles, batch_size):\n",
    "    \"\"\" Creates a generator pull pieces of the data and process them on the fly.\n",
    "    Args:\n",
    "        image_paths (np.array): array of paths to image files\n",
    "        steering_angle (np.array): array of steering angles\n",
    "        batch_size (int): number of items to process\n",
    "    Returns:\n",
    "        images (np.array): array of images\n",
    "        measurements (np.array): array of steering angles\n",
    "    \"\"\"\n",
    "    images = np.empty([batch_size, IMG_HEIGHT, IMG_WIDTH, IMG_CHANNELS])\n",
    "    measurements = np.empty(batch_size)\n",
    "    while True:\n",
    "        i = 0\n",
    "        for index in np.random.permutation(image_paths.shape[0]):\n",
    "            center, left, right = image_paths[index]\n",
    "            image = load_image(center)\n",
    "            measurement = float(steering_angles[index])\n",
    "\n",
    "            image, measurement = augment(image, measurement)\n",
    "\n",
    "            images[i] = image\n",
    "            measurements[i] = measurement\n",
    "\n",
    "            i += 1\n",
    "            if i == batch_size:\n",
    "                break\n",
    "        yield images, measurements\n"
   ]
  },
  {
   "cell_type": "code",
   "execution_count": 42,
   "metadata": {},
   "outputs": [
    {
     "name": "stdout",
     "output_type": "stream",
     "text": [
      "Loading data...\n",
      "Building model...\n",
      "Compiling model...\n",
      "Training model...\n",
      "Epoch 1/5\n",
      "12/11 [==============================] - 41s 3s/step - loss: 0.3658 - val_loss: 0.1021\n",
      "Epoch 2/5\n",
      "12/11 [==============================] - 45s 4s/step - loss: 0.0827 - val_loss: 0.0428\n",
      "Epoch 3/5\n",
      "12/11 [==============================] - 44s 4s/step - loss: 0.0488 - val_loss: 0.0414\n",
      "Epoch 4/5\n",
      "12/11 [==============================] - 44s 4s/step - loss: 0.0422 - val_loss: 0.0399\n",
      "Epoch 5/5\n",
      "12/11 [==============================] - 42s 3s/step - loss: 0.0451 - val_loss: 0.0283\n",
      "Saving model...\n",
      "Model saved, training complete!\n"
     ]
    },
    {
     "data": {
      "image/png": "[encoded data removed]",
      "text/plain": [
       "<Figure size 432x288 with 1 Axes>"
      ]
     },
     "metadata": {
      "needs_background": "light"
     },
     "output_type": "display_data"
    }
   ],
   "source": [
    "def main():\n",
    "    \"\"\"Entry point for training the model\"\"\"\n",
    "\n",
    "    # Hyperparameters\n",
    "    test_size = 0.20\n",
    "    batch_size = 256\n",
    "    epochs = 5\n",
    "    verbose = 1\n",
    "    additional_training_data = True\n",
    "\n",
    "    print('Loading data...')\n",
    "    X_train, X_val, y_train, y_val = load_data(test_size, additional_training_data=additional_training_data)\n",
    "\n",
    "    print('Building model...')\n",
    "    model = net()\n",
    "\n",
    "    checkpoint = ModelCheckpoint('model-{epoch:03d}.h5',\n",
    "                                 monitor='val_loss',\n",
    "                                 verbose=0,\n",
    "                                 save_best_only=True,\n",
    "                                 mode='auto')\n",
    "\n",
    "    print('Compiling model...')\n",
    "    model.compile(loss='mean_squared_error', optimizer=Adam(lr=0.0001))\n",
    "\n",
    "    print('Training model...')\n",
    "    history_object = model.fit_generator(batch_generator(X_train, y_train, batch_size),\n",
    "                                         steps_per_epoch=len(X_train)/batch_size,\n",
    "                                         validation_data=batch_generator(X_val, y_val, batch_size),\n",
    "                                         validation_steps=len(X_val)/batch_size,\n",
    "                                         callbacks=[checkpoint],\n",
    "                                         epochs=epochs,\n",
    "                                         verbose=verbose)\n",
    "\n",
    "    print('Saving model...')\n",
    "    model.save('model.h5')\n",
    "\n",
    "    print('Model saved, training complete!')\n",
    "\n",
    "    # summarize history for loss\n",
    "    plt.subplot(111)\n",
    "    plt.plot(history_object.history['loss'])\n",
    "    plt.plot(history_object.history['val_loss'])\n",
    "    plt.title('model loss')\n",
    "    plt.ylabel('loss')\n",
    "    plt.xlabel('epoch')\n",
    "    plt.legend(['train', 'test'], loc='upper left')\n",
    "\n",
    "    plt.savefig('history.png', bbox_inches='tight')\n",
    "\n",
    "if __name__ == '__main__':\n",
    "    main()"
   ]
  },
  {
   "cell_type": "code",
   "execution_count": null,
   "metadata": {},
   "outputs": [],
   "source": []
  },
  {
   "cell_type": "code",
   "execution_count": null,
   "metadata": {},
   "outputs": [],
   "source": []
  },
  {
   "cell_type": "code",
   "execution_count": null,
   "metadata": {},
   "outputs": [],
   "source": []
  }
 ],
 "metadata": {
  "kernelspec": {
   "display_name": "Python 3",
   "language": "python",
   "name": "python3"
  },
  "language_info": {
   "codemirror_mode": {
    "name": "ipython",
    "version": 3
   },
   "file_extension": ".py",
   "mimetype": "text/x-python",
   "name": "python",
   "nbconvert_exporter": "python",
   "pygments_lexer": "ipython3",
   "version": "3.8.3"
  }
 },
 "nbformat": 4,
 "nbformat_minor": 4
}
