{
 "cells": [
  {
   "cell_type": "code",
   "execution_count": 2,
   "metadata": {},
   "outputs": [],
   "source": [
    "import cv2\n",
    "import glob\n",
    "import pandas as pd\n",
    "import numpy as np\n",
    "import keras\n",
    "from sklearn.model_selection import train_test_split\n",
    "import matplotlib.pyplot as plt"
   ]
  },
  {
   "cell_type": "code",
   "execution_count": 3,
   "metadata": {},
   "outputs": [],
   "source": [
    "#Function to load image is it's within the IMG folder\n",
    "def load_img(filename):\n",
    "    filename = filename.strip()\n",
    "    if filename.split('/')[0] == 'IMG':\n",
    "        filename = '/opt/carnd_p3/data/{}'.format(filename)\n",
    "    return plt.imread(filename)"
   ]
  },
  {
   "cell_type": "code",
   "execution_count": null,
   "metadata": {},
   "outputs": [],
   "source": [
    "# Function to build network\n",
    "# I've based this on the Nvidia network mentioned in the theory sections. This \n",
    "def net():\n",
    "    model = Sequential()\n",
    "    model.add(Lambda(lambda x: (x/255.0)-0.5))\n",
    "    model.add(Conv2d(24, (5,5), strides= (2,2), activation = 'relu'))\n",
    "    model.add(Conv2d(36, (5,5), strides= (2,2), activation = 'relu'))\n",
    "    model.add(Conv2d(48, (3,3), strides= (2,2), activation = 'relu'))\n",
    "    model.add(Conv2d(64, (3,3), strides= (2,2), activation = 'relu'))\n",
    "    model.add(Conv2d(64, (5,5), strides= (2,2), activation = 'relu'))\n",
    "    model.add(Flatten())\n",
    "    model.add(Dense(1164))\n",
    "    model.add(Dense(100))\n",
    "    model.add(Dense(50))\n",
    "    model.add(Dense(10))\n"
   ]
  }
 ],
 "metadata": {
  "kernelspec": {
   "display_name": "Python 3",
   "language": "python",
   "name": "python3"
  },
  "language_info": {
   "codemirror_mode": {
    "name": "ipython",
    "version": 3
   },
   "file_extension": ".py",
   "mimetype": "text/x-python",
   "name": "python",
   "nbconvert_exporter": "python",
   "pygments_lexer": "ipython3",
   "version": "3.8.3"
  }
 },
 "nbformat": 4,
 "nbformat_minor": 4
}
